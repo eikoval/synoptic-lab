{
 "cells": [
  {
   "cell_type": "code",
   "execution_count": 1,
   "id": "0e0925bb-9491-4fac-87d5-072347316130",
   "metadata": {},
   "outputs": [],
   "source": [
    "import numpy as np\n",
    "import netCDF4\n",
    "import matplotlib.pyplot as plot\n",
    "import matplotlib as mpl\n",
    "import wrf\n",
    "import cartopy.crs as ccrs\n",
    "import cartopy.feature as cfeature\n",
    "import matplotlib.ticker as mticker\n",
    "import math\n",
    "import metpy.calc as mpcalc\n",
    "\n",
    "from netCDF4 import Dataset\n",
    "from wrf import getvar, to_np, get_cartopy, vertcross, CoordPair\n",
    "from cartopy.mpl.gridliner import LONGITUDE_FORMATTER, LATITUDE_FORMATTER\n",
    "from cartopy import config\n",
    "from metpy.units import units\n",
    "\n",
    "plot.switch_backend('agg')"
   ]
  },
  {
   "cell_type": "code",
   "execution_count": 2,
   "id": "41b5cc2a-a79e-439e-ba64-3ae0062ac98f",
   "metadata": {},
   "outputs": [],
   "source": [
    "def bearing(pointA, pointB):\n",
    "    import math\n",
    "    if (type(pointA) != tuple) or (type(pointB) != tuple):\n",
    "        raise TypeError(\"Only tuples are supported as arguments\")\n",
    "    #convert to radians\n",
    "    lat1 = math.radians(pointA[0])\n",
    "    lat2 = math.radians(pointB[0])\n",
    "    #how far appart are the points in longitude\n",
    "    diffLong = math.radians(pointB[1] - pointA[1])\n",
    "    x = math.sin(diffLong) * math.cos(lat2)\n",
    "    y = math.cos(lat1) * math.sin(lat2) - (math.sin(lat1)\n",
    "            * math.cos(lat2) * math.cos(diffLong))\n",
    "    initial_bearing = math.atan2(x, y)\n",
    "    initial_bearing = math.degrees(initial_bearing)\n",
    "    compass_bearing = (initial_bearing + 360) % 360\n",
    "    compass_bearing2 = abs(compass_bearing - 90.)\n",
    "    return compass_bearing2"
   ]
  },
  {
   "cell_type": "code",
   "execution_count": 3,
   "id": "ec7485ae-9750-4585-854b-fb446ab299f1",
   "metadata": {},
   "outputs": [],
   "source": [
    "ncfile = Dataset('./wrfout_d01_2019-03-11_18:00:00')"
   ]
  },
  {
   "cell_type": "code",
   "execution_count": 4,
   "id": "f53133db-8bc5-41fc-9091-df3f8fedc68c",
   "metadata": {},
   "outputs": [],
   "source": [
    "lon = getvar(ncfile, \"lon\", meta=False)\n",
    "lat = getvar(ncfile, \"lat\", meta=False)\n",
    "Press = getvar(ncfile, \"pressure\", meta=False)\n",
    "height = getvar(ncfile, \"z\")\n",
    "UComp = getvar(ncfile, \"ua\", meta=False)\n",
    "VComp = getvar(ncfile, \"va\", meta=False)\n",
    "theta = getvar(ncfile, \"theta\", meta=False)"
   ]
  },
  {
   "cell_type": "code",
   "execution_count": 5,
   "id": "9fdd3207-5b51-4c49-a156-6814c2a6c222",
   "metadata": {},
   "outputs": [],
   "source": [
    "interp_level_800 = [800]\n",
    "\n",
    "Height_800 = wrf.vinterp(ncfile, field=height, vert_coord=\"pressure\", interp_levels=interp_level_800, extrapolate=True, field_type=\"ght\")\n",
    "U_800 = wrf.vinterp(ncfile, field=UComp, vert_coord=\"pressure\", interp_levels=interp_level_800, extrapolate=True)\n",
    "V_800 = wrf.vinterp(ncfile, field=VComp, vert_coord=\"pressure\", interp_levels=interp_level_800, extrapolate=True)\n",
    "Theta_800 = wrf.vinterp(ncfile, field=theta, vert_coord=\"pressure\", interp_levels=interp_level_800, extrapolate=True, field_type=\"th\")\n",
    "\n",
    "U_800 = np.array(U_800)\n",
    "V_800 = np.array(V_800)\n",
    "Height_800 = np.squeeze(Height_800)\n",
    "Vx_800 = np.squeeze(U_800)\n",
    "Vy_800 = np.squeeze(V_800)\n",
    "\n",
    "dx = 25000\n",
    "dy = 25000"
   ]
  },
  {
   "cell_type": "code",
   "execution_count": 6,
   "id": "cef0ff06-21e3-49c2-a2e0-50e9594d2450",
   "metadata": {},
   "outputs": [],
   "source": [
    "# Calculate total wind frontogenesis (in K/100km/3hr)\n",
    "TW_fgen_800 = mpcalc.frontogenesis(Theta_800.data*units.K, U_800[::-1,:]*units.meter/units.second, V_800[::-1,:]*units.meter/units.second, dx*units.meter, dy*units.meter)*(1000*100*3600*3)\n",
    "TW_fgen_800 = np.squeeze(TW_fgen_800)"
   ]
  },
  {
   "cell_type": "code",
   "execution_count": 7,
   "id": "a144a729-157d-4f39-bcff-694f4c8f0381",
   "metadata": {},
   "outputs": [],
   "source": [
    "lat1 = 40.\n",
    "lon1 = -106.\n",
    "lat2 = 40.\n",
    "lon2 = -99.\n",
    "\n",
    "start_pt = CoordPair(lat=lat1,lon=lon1)\n",
    "end_pt = CoordPair(lat=lat2,lon=lon2)\n",
    "geodetic = ccrs.Geodetic()\n",
    "PC = ccrs.PlateCarree()\n",
    "lon1_, lat1_ = PC.transform_point(lon1, lat1, geodetic)\n",
    "lon2_, lat2_ = PC.transform_point(lon2, lat2, geodetic)\n"
   ]
  },
  {
   "cell_type": "code",
   "execution_count": 8,
   "id": "07a78056-c36e-4c9b-ba18-15d95e314fb1",
   "metadata": {},
   "outputs": [],
   "source": [
    "# Setting height contours\n",
    "cint_800_h = 25 # Height interval every 50 m\n",
    "cmin_800_h = np.min(Height_800) # Minimum height value\n",
    "cmax_800_h = np.max(Height_800) # Maximum height value\n",
    "clevs_800_h = np.arange(cmin_800_h, cmax_800_h, cint_800_h) # Height array to plot\n",
    "\n",
    "cart_proj_800 = get_cartopy(height) # Plot projection"
   ]
  },
  {
   "cell_type": "code",
   "execution_count": 9,
   "id": "0ed7cf82-0ff5-4019-937d-e5d3c2d98e1d",
   "metadata": {},
   "outputs": [],
   "source": [
    "# Setting frontogensis contours\n",
    "Fgen_levs = [-10,-9, -8, -7, -6, -5, -4, -3, -2, -1, 1, 2, 3, 4, 5, 6, 7, 8, 9, 10]"
   ]
  },
  {
   "cell_type": "code",
   "execution_count": 10,
   "id": "93c3c4bf-42ca-4caf-8953-867829d9a125",
   "metadata": {},
   "outputs": [
    {
     "name": "stderr",
     "output_type": "stream",
     "text": [
      "/glade/work/ekoval/conda-envs/dynamics_class/lib/python3.7/site-packages/cartopy/mpl/gridliner.py:451: UserWarning: The .xlabels_top attribute is deprecated. Please use .top_labels to toggle visibility instead.\n",
      "  warnings.warn('The .xlabels_top attribute is deprecated. Please '\n",
      "/glade/work/ekoval/conda-envs/dynamics_class/lib/python3.7/site-packages/cartopy/mpl/gridliner.py:463: UserWarning: The .xlabels_bottom attribute is deprecated. Please use .bottom_labels to toggle visibility instead.\n",
      "  warnings.warn('The .xlabels_bottom attribute is deprecated. Please '\n",
      "/glade/work/ekoval/conda-envs/dynamics_class/lib/python3.7/site-packages/cartopy/mpl/gridliner.py:475: UserWarning: The .ylabels_left attribute is deprecated. Please use .left_labels to toggle visibility instead.\n",
      "  warnings.warn('The .ylabels_left attribute is deprecated. Please '\n",
      "/glade/work/ekoval/conda-envs/dynamics_class/lib/python3.7/site-packages/cartopy/mpl/gridliner.py:487: UserWarning: The .ylabels_right attribute is deprecated. Please use .right_labels to toggle visibility instead.\n",
      "  warnings.warn('The .ylabels_right attribute is deprecated. Please '\n",
      "/glade/work/ekoval/conda-envs/dynamics_class/lib/python3.7/site-packages/cartopy/mpl/geoaxes.py:1666: UserWarning: The following kwargs were not used by contour: 'linewidth'\n",
      "  result = matplotlib.axes.Axes.contour(self, *args, **kwargs)\n"
     ]
    }
   ],
   "source": [
    "# Plot\n",
    "plot.rcParams['contour.negative_linestyle'] = 'solid'\n",
    "fig = plot.figure(figsize=(10,10))\n",
    "ax = fig.add_subplot(1,1,1, projection=cart_proj_800)\n",
    "ax.set_extent([-115,-80,30,45])\n",
    "ax.add_feature(cfeature.COASTLINE, edgecolor=\"gray\", linewidth=2)\n",
    "ax.add_feature(cfeature.BORDERS, edgecolor=\"gray\", linewidth=2)\n",
    "ax.add_feature(cfeature.STATES, edgecolor=\"gray\", linewidth=1)\n",
    "gl = ax.gridlines(crs=ccrs.PlateCarree(), draw_labels=False, linewidth=2, color='gray', alpha=0.5, linestyle='--')\n",
    "gl.ylocator = mticker.FixedLocator([20, 25, 30, 35, 40, 45, 50, 55])\n",
    "gl.xlocator = mticker.FixedLocator([-60, -75, -90, -105, -120, -135])\n",
    "gl.xlabels_top = True\n",
    "gl.xlabels_bottom = True\n",
    "gl.ylabels_left = True\n",
    "gl.ylabels_right = True\n",
    "gl.x_inline = False\n",
    "gl.yinline = False\n",
    "gl.xformatter = LONGITUDE_FORMATTER\n",
    "gl.yformatter = LATITUDE_FORMATTER\n",
    "Fgen = plot.contourf(to_np(lon), to_np(lat), to_np(TW_fgen_800), Fgen_levs, cmap='PuOr', extend = 'both', transform=ccrs.PlateCarree())\n",
    "cbar = plot.colorbar(Fgen, orientation='horizontal')\n",
    "cbar.set_ticks([-10, -9, -8, -7, -6, -5, -4, -3, -2, -1, 0, 1, 2, 3, 4, 5, 6, 7, 8, 9, 10])\n",
    "cbar.set_label('Frontogenesis (K per 100 km per 3 hr)', fontsize=15)\n",
    "cntrs = plot.contour(to_np(lon), to_np(lat), to_np(Height_800), clevs_800_h, colors='k', linewidth=1, transform=ccrs.PlateCarree())\n",
    "plot.clabel(cntrs, inline=1, fontsize=10, fmt='%i')\n",
    "cl=plot.plot([lon1_, lon2_], [lat1_, lat2_], color='red', linewidth=3, transform=ccrs.PlateCarree())\n",
    "plot.title('800 hPa Isobaric Level', fontsize=20)\n",
    "plot.savefig('Fig.jpg')"
   ]
  },
  {
   "cell_type": "code",
   "execution_count": null,
   "id": "d9bf6823-d4ef-4f1d-9304-46497319a040",
   "metadata": {},
   "outputs": [],
   "source": []
  }
 ],
 "metadata": {
  "kernelspec": {
   "display_name": "dynamics_class",
   "language": "python",
   "name": "dynamics_class"
  },
  "language_info": {
   "codemirror_mode": {
    "name": "ipython",
    "version": 3
   },
   "file_extension": ".py",
   "mimetype": "text/x-python",
   "name": "python",
   "nbconvert_exporter": "python",
   "pygments_lexer": "ipython3",
   "version": "3.7.12"
  }
 },
 "nbformat": 4,
 "nbformat_minor": 5
}
