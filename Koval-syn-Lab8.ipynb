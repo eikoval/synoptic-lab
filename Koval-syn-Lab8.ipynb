{
 "cells": [
  {
   "cell_type": "code",
   "execution_count": 1,
   "id": "d3e138db-2f71-4de7-9006-14970c24fa50",
   "metadata": {
    "editable": true,
    "slideshow": {
     "slide_type": ""
    },
    "tags": []
   },
   "outputs": [],
   "source": [
    "import wrf\n",
    "import numpy as np\n",
    "import matplotlib.pyplot as plt\n",
    "import cartopy.crs as ccrs\n",
    "from netCDF4 import Dataset\n",
    "import metpy as mp\n",
    "import metpy.calc as mpcalc\n",
    "import cartopy.feature as cf\n",
    "from metpy.units import units\n",
    "import windspharm as ws\n",
    "from windspharm.standard import VectorWind"
   ]
  },
  {
   "cell_type": "code",
   "execution_count": 2,
   "id": "aa27f5ea-810e-4971-96f1-fb7d98f5e527",
   "metadata": {},
   "outputs": [],
   "source": [
    "file = './wrfout_d01_2019-03-11_18:00:00'\n",
    "data = Dataset(file)"
   ]
  },
  {
   "cell_type": "code",
   "execution_count": 3,
   "id": "658bb370-5f6e-4b1a-a0ad-6723b0bdce68",
   "metadata": {},
   "outputs": [
    {
     "data": {
      "text/plain": [
       "numpy.datetime64('2019-03-13T18:00:00.000000000')"
      ]
     },
     "execution_count": 3,
     "metadata": {},
     "output_type": "execute_result"
    }
   ],
   "source": [
    "wrf.extract_times(data, timeidx=16)"
   ]
  },
  {
   "cell_type": "code",
   "execution_count": 4,
   "id": "07200fea-e520-494b-a092-0eb01e295a8d",
   "metadata": {},
   "outputs": [],
   "source": [
    "lat1, lon1 = (33.183, -99.379) #west central TX\n",
    "lat2, lon2 = (36.918, -88.123) #southwest KY\n",
    "start_point = wrf.CoordPair(lat = lat1, lon= lon1)\n",
    "end_point = wrf.CoordPair(lat = lat2, lon = lon2)"
   ]
  },
  {
   "cell_type": "code",
   "execution_count": 5,
   "id": "e94c75e4-a5b0-4d64-8b58-b1f4ee93d041",
   "metadata": {},
   "outputs": [],
   "source": [
    "#variables\n",
    "raw_geo = wrf.getvar(data, 'geopt', timeidx=16)\n",
    "raw_theta = wrf.getvar(data, 'theta', timeidx=16)\n",
    "raw_u, raw_v = wrf.getvar(data, 'uvmet', units='kts', timeidx=16)\n",
    "raw_p = wrf.getvar(data, 'pressure', timeidx=16)\n",
    "raw_w = wrf.getvar(data, 'wa', units='kts', timeidx=16)\n",
    "raw_rh = wrf.getvar(data, 'rh', timeidx=16)\n",
    "lat = wrf.getvar(data, 'lat')\n",
    "lon = wrf.getvar(data, 'lon')"
   ]
  },
  {
   "cell_type": "code",
   "execution_count": 6,
   "id": "046af23a-c40e-46d7-b59c-f9fe1b6bc141",
   "metadata": {},
   "outputs": [],
   "source": [
    "#calculations from lab writeup:\n",
    "theta = 17.22\n",
    "cx = 16.73\n",
    "cy = 3.02"
   ]
  },
  {
   "cell_type": "code",
   "execution_count": 7,
   "id": "e1077429-d817-470b-9c7e-5c6d8b0479da",
   "metadata": {},
   "outputs": [],
   "source": [
    "rad = np.radians(theta)\n",
    "u_f = raw_u-cx\n",
    "v_f = raw_v-cy\n",
    "new_u = u_f*np.cos(rad)+v_f*np.sin(rad)\n",
    "new_v = (u_f*-1)*np.sin(rad)+v_f*np.cos(rad)"
   ]
  },
  {
   "cell_type": "code",
   "execution_count": 8,
   "id": "3185ff71-a2b5-4164-8fba-104625211a2e",
   "metadata": {},
   "outputs": [],
   "source": [
    "#AR calculations:\n",
    "AR = 99."
   ]
  },
  {
   "cell_type": "code",
   "execution_count": null,
   "id": "e62ba2ce-a747-478c-adb6-800ab09d37de",
   "metadata": {},
   "outputs": [
    {
     "name": "stderr",
     "output_type": "stream",
     "text": [
      "/glade/work/ekoval/conda-envs/dynamics_class/lib/python3.7/site-packages/metpy/xarray.py:1454: UserWarning: Horizontal dimension numbers not found. Defaulting to (..., Y, X) order.\n",
      "  warnings.warn('Horizontal dimension numbers not found. Defaulting to '\n"
     ]
    }
   ],
   "source": [
    "geo = wrf.interplevel(raw_geo, raw_p, 800)\n",
    "theta = wrf.interplevel(raw_theta, raw_p, 800)\n",
    "u = wrf.interplevel(raw_u, raw_p, 800)\n",
    "v = wrf.interplevel(raw_v, raw_p, 800)\n",
    "map_lat, map_lon = wrf.latlon_coords(geo)\n",
    "proj= wrf.get_cartopy(geo)\n",
    "\n",
    "fig2 = plt.figure(figsize=(12, 9))\n",
    "fig2.patch.set_facecolor('white')\n",
    "ax2 = plt.axes(projection=proj)\n",
    "#     #coastlines and borders:\n",
    "ax2.coastlines('50m', linewidth=0.7)\n",
    "ax2.add_feature(cf.STATES, linewidth=0.5)\n",
    "\n",
    "gl = ax2.gridlines()\n",
    "gl.left_labels=True\n",
    "gl.top_labels=True\n",
    "#geopotential height contours:\n",
    "con = plt.contour(wrf.to_np(lon), wrf.to_np(lat), wrf.to_np(geo), colors='black', transform=ccrs.PlateCarree())\n",
    "plt.clabel(con, inline=1, fontsize=10, fmt='%i')\n",
    "\n",
    "dx, dy = mpcalc.lat_lon_grid_deltas(lon, lat)\n",
    "fgen = mpcalc.frontogenesis(theta, u*units('kt'), v*units('kt'), dx=dx, dy=dy)*1000*100*3600*3#converted to k/100km/3hr\n",
    "f_levels = np.arange(-50., 50.1, 2.5)\n",
    "fgen_f = plt.contourf(wrf.to_np(lon), wrf.to_np(lat), wrf.to_np(fgen), levels=f_levels, transform=ccrs.PlateCarree(), cmap='bwr_r')\n",
    "bar = plt.colorbar(fgen_f, orientation='horizontal', pad=0.05, label='FGEN (K/100km/3hr)')\n",
    "\n",
    "\n",
    "geodetic = ccrs.Geodetic()\n",
    "PC = ccrs.PlateCarree()\n",
    "lon1_, lat1_ = PC.transform_point(lon1, lat1, geodetic)\n",
    "lon2_, lat2_ = PC.transform_point(lon2, lat2, geodetic)\n",
    "\n",
    "\n",
    "plt.plot([lat1_, lat2_], [lon1_, lon2_], color='red')\n",
    "\n",
    "plt.title('20190313 18Z, 800 mb Geopotential Height and FGEN')\n",
    "plt.savefig('LAB8_fig.png')"
   ]
  },
  {
   "cell_type": "code",
   "execution_count": null,
   "id": "d0155197-2e20-495d-aa13-60007035f856",
   "metadata": {},
   "outputs": [],
   "source": [
    "fig = plt.figure(figsize=(12,9))\n",
    "fig.patch.set_facecolor('white')\n",
    "\n",
    "ax = plt.axes()\n",
    "ax.set_facecolor('dimgrey')\n",
    "ax.invert_yaxis()\n",
    "plt.yscale('log')\n",
    "plt.yticks(np.arange(200, 1000.1, 100), ['200', '300', '400', '500', '600', '700', '800', '900', '1000'])\n",
    "plt.ylim(1000, 300)\n",
    "plt.ylabel('Pressure (hPa)')\n",
    "plt.xlabel('Latitude, Longitude')\n",
    "\n",
    "#W Color fill:\n",
    "w_cross = wrf.vertcross(raw_w, raw_p, wrfin=data, start_point=start_point, end_point=end_point, latlon=True, meta=True) \n",
    "#xs = np.linspace(lon1, lon2, w_cross.shape[-1])\n",
    "xs = np.arange(0, w_cross.shape[-1], 1)\n",
    "ys = wrf.to_np(w_cross.coords['vertical'])\n",
    "\n",
    "#Set the x-ticks to longitude labels:\n",
    "x_lon = wrf.to_np(w_cross.coords['xy_loc'])\n",
    "x_ticks = np.arange(x_lon.shape[0])\n",
    "# coord_pairs = to_np(wspd_cross.coords[\"xy_loc\"])\n",
    "# x_ticks = np.arange(coord_pairs.shape[0])\n",
    "x_labels = [pair.latlon_str(fmt=\"{:.2f}, {:.2f}\") for pair in wrf.to_np(x_lon)]\n",
    "ax.set_xticks(x_ticks[::20])\n",
    "ax.set_xticklabels(x_labels[::20], fontsize=9)\n",
    "\n",
    "\n",
    "w_con = ax.contourf(xs, ys, wrf.to_np(w_cross), cmap='RdBu_r', levels=np.arange(-1.5, 1.91, 0.3))\n",
    "plt.colorbar(w_con, ax=ax, label='Vertial Velocity (kts)')\n",
    "# XS = np.linspace(-114.29, -82.996, \n",
    "\n",
    "#isentrope contours:\n",
    "th_cross = wrf.vertcross(raw_theta, raw_p, wrfin=data, start_point=start_point, end_point=end_point, latlon=True)\n",
    "th_con = ax.contour(xs, ys, wrf.to_np(th_cross), colors='black', levels=np.arange(280, 390.1, 2), alpha=0.85, linewidths=0.8)\n",
    "plt.clabel(th_con)\n",
    "\n",
    "\n",
    "\n",
    "# #FGEN\n",
    "shape = np.shape(raw_u)\n",
    "fgen = np.zeros(shape)\n",
    "for i in range(shape[0]):\n",
    "    fgen[i] = mpcalc.frontogenesis(raw_theta[i], u[i]*units('kt'), v[i]*units('kt'), dx=dx, dy=dy)*1000*100*3600*3#converted to k/100km/3hr\n",
    "fgen_cross = wrf.vertcross(fgen, raw_p, wrfin=data, start_point=start_point, end_point=end_point, meta=True)\n",
    "fgen_plot = plt.contour(xs, ys, fgen_cross, colors='magenta', levels=np.arange(1.0, 16.1, 1), linewidths=1.7)\n",
    "\n",
    "\n",
    "#RH contour:\n",
    "rh_cross = wrf.vertcross(raw_rh, raw_p, wrfin=data, start_point=start_point, end_point=end_point, latlon=True, meta=True)\n",
    "rh_con = plt.contour(xs, ys, wrf.to_np(rh_cross), colors='darkgreen', levels=[70, 85], linewidths=1.75)\n",
    "plt.clabel(rh_con)\n",
    "\n",
    "#wind vectors:\n",
    "u_cross = wrf.vertcross(new_u, raw_p, wrfin=data, start_point=start_point, end_point=end_point, latlon=True, meta=True)\n",
    "w_cross = wrf.vertcross(raw_w, raw_p, wrfin=data, start_point=start_point, end_point=end_point, latlon=True, meta=True)\n",
    "\n",
    "wind = ax.quiver(xs[::5], ys[::5], wrf.to_np(u_cross[::5, ::5]), wrf.to_np(w_cross[::5, ::5]*AR))\n",
    "\n",
    "plt.title('20190313 18Z, Isentropes, Vertical Velocity, FGEN (pink),\\nRH (Green, %), and Front-Relative Winds')\n",
    "plt.savefig('FGEN_vert.png')"
   ]
  },
  {
   "cell_type": "code",
   "execution_count": null,
   "id": "a9a1251b-f0cc-474a-a9fb-1299dcc8d123",
   "metadata": {},
   "outputs": [],
   "source": [
    "np.shape(fgen)"
   ]
  },
  {
   "cell_type": "code",
   "execution_count": null,
   "id": "6c0e85de-c0bd-401d-a04b-ecc0e2ee3a9e",
   "metadata": {},
   "outputs": [],
   "source": [
    "np.shape(raw_u)"
   ]
  },
  {
   "cell_type": "code",
   "execution_count": null,
   "id": "64393352-50b4-4c4f-9184-ed6e3848b896",
   "metadata": {},
   "outputs": [],
   "source": []
  },
  {
   "cell_type": "code",
   "execution_count": null,
   "id": "d4d02e99-8374-4b27-8995-1de04ebf5e25",
   "metadata": {},
   "outputs": [],
   "source": []
  }
 ],
 "metadata": {
  "kernelspec": {
   "display_name": "dynamics_class",
   "language": "python",
   "name": "dynamics_class"
  },
  "language_info": {
   "codemirror_mode": {
    "name": "ipython",
    "version": 3
   },
   "file_extension": ".py",
   "mimetype": "text/x-python",
   "name": "python",
   "nbconvert_exporter": "python",
   "pygments_lexer": "ipython3",
   "version": "3.7.12"
  }
 },
 "nbformat": 4,
 "nbformat_minor": 5
}
